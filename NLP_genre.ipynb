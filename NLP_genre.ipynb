{
 "cells": [
  {
   "cell_type": "code",
   "execution_count": 1,
   "metadata": {},
   "outputs": [],
   "source": [
    "#This is our first attmempt at creating a Natural Language Processor"
   ]
  },
  {
   "cell_type": "code",
   "execution_count": 11,
   "metadata": {},
   "outputs": [
    {
     "name": "stderr",
     "output_type": "stream",
     "text": [
      "[nltk_data] Downloading package stopwords to\n",
      "[nltk_data]     /Users/estherfarkas/nltk_data...\n",
      "[nltk_data]   Package stopwords is already up-to-date!\n",
      "[nltk_data] Downloading package punkt to\n",
      "[nltk_data]     /Users/estherfarkas/nltk_data...\n",
      "[nltk_data]   Package punkt is already up-to-date!\n",
      "[nltk_data] Downloading package wordnet to\n",
      "[nltk_data]     /Users/estherfarkas/nltk_data...\n",
      "[nltk_data]   Package wordnet is already up-to-date!\n"
     ]
    }
   ],
   "source": [
    "# Step 1: Import Libraries\n",
    "#Basics\n",
    "import pandas as pd\n",
    "import numpy as np\n",
    "\n",
    "#Plots\n",
    "import matplotlib.pyplot as plt\n",
    "import seaborn as sns\n",
    "%matplotlib inline\n",
    "\n",
    "#NLP TOOLS\n",
    "import nltk\n",
    "from nltk import word_tokenize\n",
    "from nltk.corpus import stopwords\n",
    "from nltk.corpus import wordnet\n",
    "from nltk.stem import PorterStemmer\n",
    "from nltk.stem import WordNetLemmatizer\n",
    "\n",
    "nltk.download('stopwords')\n",
    "nltk.download('punkt')\n",
    "nltk.download('wordnet')\n",
    "stopwords=stopwords.words('english')\n",
    "\n",
    "\n",
    "#Strings and regular expressions\n",
    "import string,re\n",
    "\n",
    "#Text Vectorizer\n",
    "from sklearn.feature_extraction.text import CountVectorizer\n",
    "from sklearn.feature_extraction.text import TfidfVectorizer\n",
    "\n",
    "#Classifiers\n",
    "from sklearn.naive_bayes import MultinomialNB\n",
    "from sklearn.ensemble import RandomForestClassifier\n",
    "\n",
    "#Model Building\n",
    "from sklearn.model_selection import train_test_split\n",
    "from sklearn.metrics import plot_confusion_matrix\n",
    "from sklearn.metrics import classification_report\n",
    "\n",
    "#Evaluation\n",
    "from sklearn import metrics\n",
    "\n",
    "\n"
   ]
  },
  {
   "cell_type": "code",
   "execution_count": 29,
   "metadata": {},
   "outputs": [
    {
     "data": {
      "text/html": [
       "<div>\n",
       "<style scoped>\n",
       "    .dataframe tbody tr th:only-of-type {\n",
       "        vertical-align: middle;\n",
       "    }\n",
       "\n",
       "    .dataframe tbody tr th {\n",
       "        vertical-align: top;\n",
       "    }\n",
       "\n",
       "    .dataframe thead th {\n",
       "        text-align: right;\n",
       "    }\n",
       "</style>\n",
       "<table border=\"1\" class=\"dataframe\">\n",
       "  <thead>\n",
       "    <tr style=\"text-align: right;\">\n",
       "      <th></th>\n",
       "      <th>Poster_Link</th>\n",
       "      <th>Series_Title</th>\n",
       "      <th>Runtime_of_Series</th>\n",
       "      <th>Certificate</th>\n",
       "      <th>Runtime_of_Episodes</th>\n",
       "      <th>Genre</th>\n",
       "      <th>IMDB_Rating</th>\n",
       "      <th>Overview</th>\n",
       "      <th>Star1</th>\n",
       "      <th>Star2</th>\n",
       "      <th>Star3</th>\n",
       "      <th>Star4</th>\n",
       "      <th>No_of_Votes</th>\n",
       "    </tr>\n",
       "  </thead>\n",
       "  <tbody>\n",
       "    <tr>\n",
       "      <th>0</th>\n",
       "      <td>https://m.media-amazon.com/images/M/MV5BYTRiND...</td>\n",
       "      <td>Game of Thrones</td>\n",
       "      <td>(2011–2019)</td>\n",
       "      <td>A</td>\n",
       "      <td>57 min</td>\n",
       "      <td>Action, Adventure, Drama</td>\n",
       "      <td>9.3</td>\n",
       "      <td>Nine noble families fight for control over the...</td>\n",
       "      <td>Emilia Clarke</td>\n",
       "      <td>Peter Dinklage</td>\n",
       "      <td>Kit Harington</td>\n",
       "      <td>Lena Headey</td>\n",
       "      <td>1773458</td>\n",
       "    </tr>\n",
       "    <tr>\n",
       "      <th>1</th>\n",
       "      <td>https://m.media-amazon.com/images/M/MV5BMjhiMz...</td>\n",
       "      <td>Breaking Bad</td>\n",
       "      <td>(2008–2013)</td>\n",
       "      <td>18</td>\n",
       "      <td>49 min</td>\n",
       "      <td>Crime, Drama, Thriller</td>\n",
       "      <td>9.5</td>\n",
       "      <td>A high school chemistry teacher diagnosed with...</td>\n",
       "      <td>Bryan Cranston</td>\n",
       "      <td>Aaron Paul</td>\n",
       "      <td>Anna Gunn</td>\n",
       "      <td>Betsy Brandt</td>\n",
       "      <td>1468887</td>\n",
       "    </tr>\n",
       "    <tr>\n",
       "      <th>2</th>\n",
       "      <td>https://m.media-amazon.com/images/M/MV5BMTc5Zm...</td>\n",
       "      <td>The Walking Dead</td>\n",
       "      <td>(2010– )</td>\n",
       "      <td>18+</td>\n",
       "      <td>44 min</td>\n",
       "      <td>Drama, Horror, Thriller</td>\n",
       "      <td>8.2</td>\n",
       "      <td>Sheriff Deputy Rick Grimes wakes up from a com...</td>\n",
       "      <td>Andrew Lincoln</td>\n",
       "      <td>Norman Reedus</td>\n",
       "      <td>Melissa McBride</td>\n",
       "      <td>Danai Gurira</td>\n",
       "      <td>854698</td>\n",
       "    </tr>\n",
       "    <tr>\n",
       "      <th>3</th>\n",
       "      <td>https://m.media-amazon.com/images/M/MV5BNDVkYj...</td>\n",
       "      <td>Friends</td>\n",
       "      <td>(1994–2004)</td>\n",
       "      <td>13+</td>\n",
       "      <td>22 min</td>\n",
       "      <td>Comedy, Romance</td>\n",
       "      <td>8.9</td>\n",
       "      <td>Follows the personal and professional lives of...</td>\n",
       "      <td>Jennifer Aniston</td>\n",
       "      <td>Courteney Cox</td>\n",
       "      <td>Lisa Kudrow</td>\n",
       "      <td>Matt LeBlanc</td>\n",
       "      <td>829816</td>\n",
       "    </tr>\n",
       "    <tr>\n",
       "      <th>4</th>\n",
       "      <td>https://m.media-amazon.com/images/M/MV5BMjEzMD...</td>\n",
       "      <td>Stranger Things</td>\n",
       "      <td>(2016– )</td>\n",
       "      <td>15</td>\n",
       "      <td>51 min</td>\n",
       "      <td>Drama, Fantasy, Horror</td>\n",
       "      <td>8.7</td>\n",
       "      <td>When a young boy disappears, his mother, a pol...</td>\n",
       "      <td>Millie Bobby Brown</td>\n",
       "      <td>Finn Wolfhard</td>\n",
       "      <td>Winona Ryder</td>\n",
       "      <td>David Harbour</td>\n",
       "      <td>824966</td>\n",
       "    </tr>\n",
       "  </tbody>\n",
       "</table>\n",
       "</div>"
      ],
      "text/plain": [
       "                                         Poster_Link      Series_Title  \\\n",
       "0  https://m.media-amazon.com/images/M/MV5BYTRiND...   Game of Thrones   \n",
       "1  https://m.media-amazon.com/images/M/MV5BMjhiMz...      Breaking Bad   \n",
       "2  https://m.media-amazon.com/images/M/MV5BMTc5Zm...  The Walking Dead   \n",
       "3  https://m.media-amazon.com/images/M/MV5BNDVkYj...           Friends   \n",
       "4  https://m.media-amazon.com/images/M/MV5BMjEzMD...   Stranger Things   \n",
       "\n",
       "  Runtime_of_Series Certificate Runtime_of_Episodes                     Genre  \\\n",
       "0       (2011–2019)           A              57 min  Action, Adventure, Drama   \n",
       "1       (2008–2013)          18              49 min    Crime, Drama, Thriller   \n",
       "2          (2010– )         18+              44 min   Drama, Horror, Thriller   \n",
       "3       (1994–2004)         13+              22 min           Comedy, Romance   \n",
       "4          (2016– )          15              51 min    Drama, Fantasy, Horror   \n",
       "\n",
       "   IMDB_Rating                                           Overview  \\\n",
       "0          9.3  Nine noble families fight for control over the...   \n",
       "1          9.5  A high school chemistry teacher diagnosed with...   \n",
       "2          8.2  Sheriff Deputy Rick Grimes wakes up from a com...   \n",
       "3          8.9  Follows the personal and professional lives of...   \n",
       "4          8.7  When a young boy disappears, his mother, a pol...   \n",
       "\n",
       "                Star1           Star2            Star3          Star4  \\\n",
       "0       Emilia Clarke  Peter Dinklage    Kit Harington    Lena Headey   \n",
       "1      Bryan Cranston      Aaron Paul        Anna Gunn   Betsy Brandt   \n",
       "2      Andrew Lincoln   Norman Reedus  Melissa McBride   Danai Gurira   \n",
       "3    Jennifer Aniston   Courteney Cox      Lisa Kudrow   Matt LeBlanc   \n",
       "4  Millie Bobby Brown   Finn Wolfhard     Winona Ryder  David Harbour   \n",
       "\n",
       "   No_of_Votes  \n",
       "0      1773458  \n",
       "1      1468887  \n",
       "2       854698  \n",
       "3       829816  \n",
       "4       824966  "
      ]
     },
     "execution_count": 29,
     "metadata": {},
     "output_type": "execute_result"
    }
   ],
   "source": [
    "#Load the data frame with the csv file to be used\n",
    "df=pd.read_csv('series_data.csv')\n",
    "df.head(5)"
   ]
  },
  {
   "cell_type": "code",
   "execution_count": null,
   "metadata": {},
   "outputs": [],
   "source": []
  },
  {
   "cell_type": "code",
   "execution_count": 13,
   "metadata": {},
   "outputs": [],
   "source": [
    "#ISBE- Inspect, Select, Build, Evaluate"
   ]
  },
  {
   "cell_type": "code",
   "execution_count": 30,
   "metadata": {},
   "outputs": [
    {
     "data": {
      "text/plain": [
       "Poster_Link               0\n",
       "Series_Title              0\n",
       "Runtime_of_Series         0\n",
       "Certificate            1297\n",
       "Runtime_of_Episodes      43\n",
       "Genre                     0\n",
       "IMDB_Rating               0\n",
       "Overview                  0\n",
       "Star1                     0\n",
       "Star2                     0\n",
       "Star3                     1\n",
       "Star4                     5\n",
       "No_of_Votes               0\n",
       "dtype: int64"
      ]
     },
     "execution_count": 30,
     "metadata": {},
     "output_type": "execute_result"
    }
   ],
   "source": [
    "#Inspect the dataframe- check for null values, duplicates and the breakdowns\n",
    "df.isnull().sum()\n"
   ]
  },
  {
   "cell_type": "code",
   "execution_count": 31,
   "metadata": {},
   "outputs": [
    {
     "data": {
      "text/plain": [
       "0"
      ]
     },
     "execution_count": 31,
     "metadata": {},
     "output_type": "execute_result"
    }
   ],
   "source": [
    "df.duplicated().sum()"
   ]
  },
  {
   "cell_type": "code",
   "execution_count": 32,
   "metadata": {},
   "outputs": [
    {
     "data": {
      "text/plain": [
       "Comedy                          189\n",
       "Crime, Drama, Mystery           131\n",
       "Animation, Action, Adventure    125\n",
       "Comedy, Drama                    85\n",
       "Action, Crime, Drama             66\n",
       "                               ... \n",
       "Documentary, Comedy, Crime        1\n",
       "Sci-Fi                            1\n",
       "Animation, Family, Horror         1\n",
       "Drama, Musical                    1\n",
       "Action, Romance, Sci-Fi           1\n",
       "Name: Genre, Length: 267, dtype: int64"
      ]
     },
     "execution_count": 32,
     "metadata": {},
     "output_type": "execute_result"
    }
   ],
   "source": [
    "#find the type of data in the mostly null category\n",
    "df.dtypes\n",
    "#Fill null values with something else\n",
    "\n",
    "#Check the values counts\n",
    "df.Genre.value_counts()"
   ]
  },
  {
   "cell_type": "code",
   "execution_count": 57,
   "metadata": {},
   "outputs": [
    {
     "name": "stdout",
     "output_type": "stream",
     "text": [
      "Original Genre: Animation, Adventure, Comedy\n",
      "Sorted Genre:  [',', ',', 'Adventure', 'Animation', 'Comedy']\n"
     ]
    }
   ],
   "source": [
    "#Maybe Changing the order of the genres will streamline the process\n",
    "def alphabetize_genre(a_string):\n",
    "    words=word_tokenize(a_string)\n",
    "    words.sort()\n",
    "    return words\n",
    "\n",
    "df['Sorted_genre']=df['Genre'].apply(alphabetize_genre)\n",
    "print('Original Genre:', df['Genre'][20])\n",
    "print('Sorted Genre: ', df['Sorted_genre'][20])"
   ]
  },
  {
   "cell_type": "code",
   "execution_count": 33,
   "metadata": {},
   "outputs": [
    {
     "name": "stdout",
     "output_type": "stream",
     "text": [
      "Original Genre:  Adventure, Drama, Fantasy\n",
      "First Genre Only:  Adventure\n"
     ]
    }
   ],
   "source": [
    "#Changing the value of genre so it only has 1 values\n",
    "def select_first(a_string):\n",
    "    words=word_tokenize(a_string)\n",
    "    return words[0]\n",
    "\n",
    "df['First_Genre']= df['Genre'].apply(select_first)\n",
    "print(\"Original Genre: \", df['Genre'][10])\n",
    "print(\"First Genre Only: \", df['First_Genre'][10])"
   ]
  },
  {
   "cell_type": "code",
   "execution_count": 60,
   "metadata": {},
   "outputs": [
    {
     "data": {
      "text/plain": [
       "Comedy         636\n",
       "Drama          327\n",
       "Animation      322\n",
       "Action         284\n",
       "Crime          248\n",
       "Adventure       71\n",
       "Documentary     34\n",
       "Biography       21\n",
       "Game-Show       16\n",
       "Reality-TV      13\n",
       "Family           7\n",
       "Fantasy          4\n",
       "Thriller         3\n",
       "Short            3\n",
       "Western          2\n",
       "Talk-Show        2\n",
       "Horror           2\n",
       "Mystery          2\n",
       "Musical          1\n",
       "Music            1\n",
       "Sci-Fi           1\n",
       "Name: First_Genre, dtype: int64"
      ]
     },
     "execution_count": 60,
     "metadata": {},
     "output_type": "execute_result"
    }
   ],
   "source": [
    "df.Sorted_genre.value_counts()\n",
    "df.First_Genre.value_counts()"
   ]
  },
  {
   "cell_type": "code",
   "execution_count": 35,
   "metadata": {},
   "outputs": [
    {
     "name": "stdout",
     "output_type": "stream",
     "text": [
      "Make Lowercase: this is my test string\n",
      "Punctuation Removed: Hello This is exciting No It really isnt\n",
      "Remove Stopwords: Hey , well stopwords test really neat guess\n",
      "Stemmed: you walk and I walk along the walkway . walk is fun sinc we walk togeth\n"
     ]
    }
   ],
   "source": [
    "#Select and Engineer features\n",
    "#Make a pipeline to change the genres\n",
    "#make lowercase\n",
    "def make_lowercase(a_string):\n",
    "    return a_string.lower()\n",
    "\n",
    "lower_test_string='This IS MY Test String'\n",
    "lower_test_string=make_lowercase(lower_test_string)\n",
    "print('Make Lowercase: ' + lower_test_string)\n",
    "\n",
    "#remove punctuation\n",
    "def remove_punct(a_string):\n",
    "    a_string = re.sub(r'[^\\w\\s]','',a_string)\n",
    "    return a_string\n",
    "\n",
    "punct_test_string='Hello!! This is exciting?? No. It, really isnt.'\n",
    "punct_test_string=remove_punct(punct_test_string)\n",
    "print('Punctuation Removed: ' +punct_test_string)\n",
    "\n",
    "#remove stopwords\n",
    "def remove_stopwords(a_string):\n",
    "    words=word_tokenize(a_string)\n",
    "    \n",
    "    valid_words=[]\n",
    "    \n",
    "    for word in words:\n",
    "        if word not in stopwords:\n",
    "            valid_words.append(word)\n",
    "            \n",
    "    a_string=' '.join(valid_words)\n",
    "    return a_string\n",
    "\n",
    "stopwords_test_string='Hey so this is, well its my stopwords test its really neat i guess to me'\n",
    "stopwords_test_string=remove_stopwords(stopwords_test_string)\n",
    "print('Remove Stopwords: ' + stopwords_test_string)\n",
    "    \n",
    "#Break the words\n",
    "def stem_the_words(a_string):\n",
    "    \n",
    "    porter=PorterStemmer()\n",
    "    \n",
    "    words=word_tokenize(a_string)\n",
    "    \n",
    "    valid_words=[]\n",
    "    \n",
    "    for word in words:\n",
    "        stemmed_word=porter.stem(word)\n",
    "        valid_words.append(stemmed_word)\n",
    "        \n",
    "    a_string=' '.join(valid_words)\n",
    "    return a_string\n",
    "\n",
    "stemwords_test_string='You walked and I walk along the walkway. Walking is fun since we walk together'\n",
    "stemwords_test_string=stem_the_words(stemwords_test_string)\n",
    "print('Stemmed: '+ stemwords_test_string)\n",
    "\n",
    "#Why is it dropping \"e\"?"
   ]
  },
  {
   "cell_type": "code",
   "execution_count": 37,
   "metadata": {},
   "outputs": [
    {
     "name": "stdout",
     "output_type": "stream",
     "text": [
      "Clean Sentance: hello love day walk wouldnt agre mr smith love garden garden garden reward youll agre garden well\n"
     ]
    }
   ],
   "source": [
    "#this is the pipeline so we dont have to type everything a million times\n",
    "def clean_string_pipeline(a_string):\n",
    "    a_string=make_lowercase(a_string)\n",
    "    a_string=remove_punct(a_string)\n",
    "    a_string=remove_stopwords(a_string)\n",
    "    a_string=stem_the_words(a_string)\n",
    "    \n",
    "    return a_string\n",
    "\n",
    "#sanity check\n",
    "pipeline_test_string=\"Hello there! Its a lovely day for a walk, wouldn't you agree Mrs. Smith? I love to garden in my garden. Gardening is so rewarding and you'll agree once you have gardened as well.\"\n",
    "pipeline_test_string=clean_string_pipeline(pipeline_test_string)\n",
    "print('Clean Sentance: '+ pipeline_test_string)\n",
    "    "
   ]
  },
  {
   "cell_type": "code",
   "execution_count": 38,
   "metadata": {},
   "outputs": [
    {
     "name": "stdout",
     "output_type": "stream",
     "text": [
      "Original Text: An animated series that follows the exploits of a super scientist and his not-so-bright grandson.\n",
      "Cleaned Test: anim seri follow exploit super scientist notsobright grandson\n"
     ]
    }
   ],
   "source": [
    "#apply pipeline to datafram\n",
    "df['Clean_Overview']=df['Overview'].apply(clean_string_pipeline)\n",
    "\n",
    "#sanity check\n",
    "print(\"Original Text: \"+ df['Overview'][20])\n",
    "print(\"Cleaned Test: \"+ df['Clean_Overview'][20])\n"
   ]
  },
  {
   "cell_type": "code",
   "execution_count": 39,
   "metadata": {},
   "outputs": [],
   "source": [
    "#Select and Engineer Features\n",
    "#select X and y\n",
    "\n",
    "X= df['Clean_Overview'].values\n",
    "y=df['First_Genre'].values\n"
   ]
  },
  {
   "cell_type": "code",
   "execution_count": 40,
   "metadata": {},
   "outputs": [
    {
     "name": "stdout",
     "output_type": "stream",
     "text": [
      "(2000, 6723) <class 'scipy.sparse.csr.csr_matrix'>\n"
     ]
    }
   ],
   "source": [
    "# Initialize our vectorizer\n",
    "vectorizer = TfidfVectorizer()\n",
    "\n",
    "# This makes your vocab matrix\n",
    "vectorizer.fit(X)\n",
    "\n",
    "# This transforms your documents into vectors.\n",
    "X = vectorizer.transform(X)\n",
    "\n",
    "print(X.shape, type(X))"
   ]
  },
  {
   "cell_type": "code",
   "execution_count": 41,
   "metadata": {},
   "outputs": [
    {
     "data": {
      "text/plain": [
       "<1x6723 sparse matrix of type '<class 'numpy.float64'>'\n",
       "\twith 12 stored elements in Compressed Sparse Row format>"
      ]
     },
     "execution_count": 41,
     "metadata": {},
     "output_type": "execute_result"
    }
   ],
   "source": [
    "#sanity check\n",
    "X[0]"
   ]
  },
  {
   "cell_type": "code",
   "execution_count": 47,
   "metadata": {},
   "outputs": [
    {
     "name": "stdout",
     "output_type": "stream",
     "text": [
      "Model Accuracy: 0.472500\n"
     ]
    }
   ],
   "source": [
    "#Build- now we do train test split on our data\n",
    "X_train,X_test,y_train,y_test=train_test_split(X, y, test_size=.20, random_state=20)\n",
    "\n",
    "#Initialize the model\n",
    "model=MultinomialNB(alpha=.5)\n",
    "\n",
    "#fit\n",
    "model.fit(X_train,y_train)\n",
    "\n",
    "#test\n",
    "y_pred=model.predict(X_test)\n",
    "\n",
    "y_pred_proba= model.predict_proba(X_test)\n",
    "\n",
    "#check accuracy\n",
    "accuracy=model.score(X_test, y_test)\n",
    "print('Model Accuracy: %f' % accuracy)\n",
    "\n"
   ]
  },
  {
   "cell_type": "code",
   "execution_count": 48,
   "metadata": {},
   "outputs": [
    {
     "ename": "ValueError",
     "evalue": "Number of classes, 15, does not match size of target_names, 21. Try specifying the labels parameter",
     "output_type": "error",
     "traceback": [
      "\u001b[0;31m---------------------------------------------------------------------------\u001b[0m",
      "\u001b[0;31mValueError\u001b[0m                                Traceback (most recent call last)",
      "\u001b[0;32m<ipython-input-48-e57f6f1df9fa>\u001b[0m in \u001b[0;36m<module>\u001b[0;34m\u001b[0m\n\u001b[1;32m      1\u001b[0m \u001b[0;31m#Check other scores\u001b[0m\u001b[0;34m\u001b[0m\u001b[0;34m\u001b[0m\u001b[0;34m\u001b[0m\u001b[0m\n\u001b[0;32m----> 2\u001b[0;31m \u001b[0mprint\u001b[0m\u001b[0;34m(\u001b[0m\u001b[0mclassification_report\u001b[0m\u001b[0;34m(\u001b[0m\u001b[0my_test\u001b[0m\u001b[0;34m,\u001b[0m \u001b[0my_pred\u001b[0m\u001b[0;34m,\u001b[0m \u001b[0mtarget_names\u001b[0m\u001b[0;34m=\u001b[0m\u001b[0mmodel\u001b[0m\u001b[0;34m.\u001b[0m\u001b[0mclasses_\u001b[0m\u001b[0;34m)\u001b[0m\u001b[0;34m)\u001b[0m\u001b[0;34m\u001b[0m\u001b[0;34m\u001b[0m\u001b[0m\n\u001b[0m",
      "\u001b[0;32m~/opt/anaconda3/lib/python3.8/site-packages/sklearn/utils/validation.py\u001b[0m in \u001b[0;36minner_f\u001b[0;34m(*args, **kwargs)\u001b[0m\n\u001b[1;32m     71\u001b[0m                           FutureWarning)\n\u001b[1;32m     72\u001b[0m         \u001b[0mkwargs\u001b[0m\u001b[0;34m.\u001b[0m\u001b[0mupdate\u001b[0m\u001b[0;34m(\u001b[0m\u001b[0;34m{\u001b[0m\u001b[0mk\u001b[0m\u001b[0;34m:\u001b[0m \u001b[0marg\u001b[0m \u001b[0;32mfor\u001b[0m \u001b[0mk\u001b[0m\u001b[0;34m,\u001b[0m \u001b[0marg\u001b[0m \u001b[0;32min\u001b[0m \u001b[0mzip\u001b[0m\u001b[0;34m(\u001b[0m\u001b[0msig\u001b[0m\u001b[0;34m.\u001b[0m\u001b[0mparameters\u001b[0m\u001b[0;34m,\u001b[0m \u001b[0margs\u001b[0m\u001b[0;34m)\u001b[0m\u001b[0;34m}\u001b[0m\u001b[0;34m)\u001b[0m\u001b[0;34m\u001b[0m\u001b[0;34m\u001b[0m\u001b[0m\n\u001b[0;32m---> 73\u001b[0;31m         \u001b[0;32mreturn\u001b[0m \u001b[0mf\u001b[0m\u001b[0;34m(\u001b[0m\u001b[0;34m**\u001b[0m\u001b[0mkwargs\u001b[0m\u001b[0;34m)\u001b[0m\u001b[0;34m\u001b[0m\u001b[0;34m\u001b[0m\u001b[0m\n\u001b[0m\u001b[1;32m     74\u001b[0m     \u001b[0;32mreturn\u001b[0m \u001b[0minner_f\u001b[0m\u001b[0;34m\u001b[0m\u001b[0;34m\u001b[0m\u001b[0m\n\u001b[1;32m     75\u001b[0m \u001b[0;34m\u001b[0m\u001b[0m\n",
      "\u001b[0;32m~/opt/anaconda3/lib/python3.8/site-packages/sklearn/metrics/_classification.py\u001b[0m in \u001b[0;36mclassification_report\u001b[0;34m(y_true, y_pred, labels, target_names, sample_weight, digits, output_dict, zero_division)\u001b[0m\n\u001b[1;32m   1948\u001b[0m             )\n\u001b[1;32m   1949\u001b[0m         \u001b[0;32melse\u001b[0m\u001b[0;34m:\u001b[0m\u001b[0;34m\u001b[0m\u001b[0;34m\u001b[0m\u001b[0m\n\u001b[0;32m-> 1950\u001b[0;31m             raise ValueError(\n\u001b[0m\u001b[1;32m   1951\u001b[0m                 \u001b[0;34m\"Number of classes, {0}, does not match size of \"\u001b[0m\u001b[0;34m\u001b[0m\u001b[0;34m\u001b[0m\u001b[0m\n\u001b[1;32m   1952\u001b[0m                 \u001b[0;34m\"target_names, {1}. Try specifying the labels \"\u001b[0m\u001b[0;34m\u001b[0m\u001b[0;34m\u001b[0m\u001b[0m\n",
      "\u001b[0;31mValueError\u001b[0m: Number of classes, 15, does not match size of target_names, 21. Try specifying the labels parameter"
     ]
    }
   ],
   "source": [
    "#Check other scores\n",
    "print(classification_report(y_test, y_pred, target_names=model.classes_))"
   ]
  },
  {
   "cell_type": "code",
   "execution_count": 49,
   "metadata": {},
   "outputs": [
    {
     "data": {
      "text/plain": [
       "<sklearn.metrics._plot.confusion_matrix.ConfusionMatrixDisplay at 0x10e7120a0>"
      ]
     },
     "execution_count": 49,
     "metadata": {},
     "output_type": "execute_result"
    },
    {
     "data": {
      "image/png": "[encoded data removed]",
      "text/plain": [
       "<Figure size 1512x1512 with 2 Axes>"
      ]
     },
     "metadata": {
      "needs_background": "light"
     },
     "output_type": "display_data"
    }
   ],
   "source": [
    "#plot a confusion matrix\n",
    "fig, ax= plt.subplots(figsize=(21,21))\n",
    "disp = plot_confusion_matrix(model, X_test, y_test,\n",
    "                             display_labels=model.classes_,\n",
    "                             cmap=plt.cm.Blues, ax=ax)\n",
    "plt.xticks(rotation=90)\n",
    "disp"
   ]
  },
  {
   "cell_type": "code",
   "execution_count": 51,
   "metadata": {},
   "outputs": [
    {
     "name": "stdout",
     "output_type": "stream",
     "text": [
      "Model Accuracy: 0.465000\n"
     ]
    },
    {
     "ename": "ValueError",
     "evalue": "Number of classes, 15, does not match size of target_names, 21. Try specifying the labels parameter",
     "output_type": "error",
     "traceback": [
      "\u001b[0;31m---------------------------------------------------------------------------\u001b[0m",
      "\u001b[0;31mValueError\u001b[0m                                Traceback (most recent call last)",
      "\u001b[0;32m<ipython-input-51-05f5f09da4a8>\u001b[0m in \u001b[0;36m<module>\u001b[0;34m\u001b[0m\n\u001b[1;32m     14\u001b[0m \u001b[0;34m\u001b[0m\u001b[0m\n\u001b[1;32m     15\u001b[0m \u001b[0;31m#Print report\u001b[0m\u001b[0;34m\u001b[0m\u001b[0;34m\u001b[0m\u001b[0;34m\u001b[0m\u001b[0m\n\u001b[0;32m---> 16\u001b[0;31m \u001b[0mprint\u001b[0m\u001b[0;34m(\u001b[0m\u001b[0mclassification_report\u001b[0m\u001b[0;34m(\u001b[0m\u001b[0my_test\u001b[0m\u001b[0;34m,\u001b[0m \u001b[0my_pred\u001b[0m\u001b[0;34m,\u001b[0m \u001b[0mtarget_names\u001b[0m\u001b[0;34m=\u001b[0m\u001b[0mrf_model\u001b[0m\u001b[0;34m.\u001b[0m\u001b[0mclasses_\u001b[0m\u001b[0;34m)\u001b[0m\u001b[0;34m)\u001b[0m\u001b[0;34m\u001b[0m\u001b[0;34m\u001b[0m\u001b[0m\n\u001b[0m\u001b[1;32m     17\u001b[0m \u001b[0;34m\u001b[0m\u001b[0m\n",
      "\u001b[0;32m~/opt/anaconda3/lib/python3.8/site-packages/sklearn/utils/validation.py\u001b[0m in \u001b[0;36minner_f\u001b[0;34m(*args, **kwargs)\u001b[0m\n\u001b[1;32m     71\u001b[0m                           FutureWarning)\n\u001b[1;32m     72\u001b[0m         \u001b[0mkwargs\u001b[0m\u001b[0;34m.\u001b[0m\u001b[0mupdate\u001b[0m\u001b[0;34m(\u001b[0m\u001b[0;34m{\u001b[0m\u001b[0mk\u001b[0m\u001b[0;34m:\u001b[0m \u001b[0marg\u001b[0m \u001b[0;32mfor\u001b[0m \u001b[0mk\u001b[0m\u001b[0;34m,\u001b[0m \u001b[0marg\u001b[0m \u001b[0;32min\u001b[0m \u001b[0mzip\u001b[0m\u001b[0;34m(\u001b[0m\u001b[0msig\u001b[0m\u001b[0;34m.\u001b[0m\u001b[0mparameters\u001b[0m\u001b[0;34m,\u001b[0m \u001b[0margs\u001b[0m\u001b[0;34m)\u001b[0m\u001b[0;34m}\u001b[0m\u001b[0;34m)\u001b[0m\u001b[0;34m\u001b[0m\u001b[0;34m\u001b[0m\u001b[0m\n\u001b[0;32m---> 73\u001b[0;31m         \u001b[0;32mreturn\u001b[0m \u001b[0mf\u001b[0m\u001b[0;34m(\u001b[0m\u001b[0;34m**\u001b[0m\u001b[0mkwargs\u001b[0m\u001b[0;34m)\u001b[0m\u001b[0;34m\u001b[0m\u001b[0;34m\u001b[0m\u001b[0m\n\u001b[0m\u001b[1;32m     74\u001b[0m     \u001b[0;32mreturn\u001b[0m \u001b[0minner_f\u001b[0m\u001b[0;34m\u001b[0m\u001b[0;34m\u001b[0m\u001b[0m\n\u001b[1;32m     75\u001b[0m \u001b[0;34m\u001b[0m\u001b[0m\n",
      "\u001b[0;32m~/opt/anaconda3/lib/python3.8/site-packages/sklearn/metrics/_classification.py\u001b[0m in \u001b[0;36mclassification_report\u001b[0;34m(y_true, y_pred, labels, target_names, sample_weight, digits, output_dict, zero_division)\u001b[0m\n\u001b[1;32m   1948\u001b[0m             )\n\u001b[1;32m   1949\u001b[0m         \u001b[0;32melse\u001b[0m\u001b[0;34m:\u001b[0m\u001b[0;34m\u001b[0m\u001b[0;34m\u001b[0m\u001b[0m\n\u001b[0;32m-> 1950\u001b[0;31m             raise ValueError(\n\u001b[0m\u001b[1;32m   1951\u001b[0m                 \u001b[0;34m\"Number of classes, {0}, does not match size of \"\u001b[0m\u001b[0;34m\u001b[0m\u001b[0;34m\u001b[0m\u001b[0m\n\u001b[1;32m   1952\u001b[0m                 \u001b[0;34m\"target_names, {1}. Try specifying the labels \"\u001b[0m\u001b[0;34m\u001b[0m\u001b[0;34m\u001b[0m\u001b[0m\n",
      "\u001b[0;31mValueError\u001b[0m: Number of classes, 15, does not match size of target_names, 21. Try specifying the labels parameter"
     ]
    }
   ],
   "source": [
    "#Random Forest Model\n",
    "rf_model= RandomForestClassifier()\n",
    "\n",
    "#Fit data\n",
    "rf_model.fit(X_train, y_train)\n",
    "\n",
    "#Predctions\n",
    "y_pred= rf_model.predict(X_test)\n",
    "y_pred_proba= rf_model.predict_proba(X_test)\n",
    "\n",
    "#accuracy\n",
    "accuracy=rf_model.score(X_test,y_test)\n",
    "print(\"Model Accuracy: %f\" % accuracy)\n",
    "\n",
    "#Print report\n",
    "print(classification_report(y_test, y_pred, target_names=rf_model.classes_))\n",
    "\n"
   ]
  },
  {
   "cell_type": "code",
   "execution_count": 53,
   "metadata": {},
   "outputs": [
    {
     "data": {
      "text/plain": [
       "<sklearn.metrics._plot.confusion_matrix.ConfusionMatrixDisplay at 0x12c8483a0>"
      ]
     },
     "execution_count": 53,
     "metadata": {},
     "output_type": "execute_result"
    },
    {
     "data": {
      "image/png": "[encoded data removed]",
      "text/plain": [
       "<Figure size 1512x1512 with 2 Axes>"
      ]
     },
     "metadata": {
      "needs_background": "light"
     },
     "output_type": "display_data"
    }
   ],
   "source": [
    "#Display results\n",
    "# Plot the confusion matrix of our results\n",
    "fig, ax = plt.subplots(figsize=(21, 21))\n",
    "disp = plot_confusion_matrix(rf_model, X_test, y_test,\n",
    "                             display_labels=rf_model.classes_,\n",
    "                             cmap=plt.cm.Greens, ax=ax)\n",
    "plt.xticks(rotation=90)\n",
    "disp\n"
   ]
  },
  {
   "cell_type": "code",
   "execution_count": null,
   "metadata": {},
   "outputs": [],
   "source": []
  }
 ],
 "metadata": {
  "kernelspec": {
   "display_name": "Python 3",
   "language": "python",
   "name": "python3"
  },
  "language_info": {
   "codemirror_mode": {
    "name": "ipython",
    "version": 3
   },
   "file_extension": ".py",
   "mimetype": "text/x-python",
   "name": "python",
   "nbconvert_exporter": "python",
   "pygments_lexer": "ipython3",
   "version": "3.8.3"
  }
 },
 "nbformat": 4,
 "nbformat_minor": 4
}
