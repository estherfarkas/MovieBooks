{
 "cells": [
  {
   "cell_type": "code",
   "execution_count": 1,
   "metadata": {},
   "outputs": [],
   "source": [
    "#Trying with the wikipedia data set instead\n"
   ]
  },
  {
   "cell_type": "code",
   "execution_count": 27,
   "metadata": {},
   "outputs": [
    {
     "name": "stderr",
     "output_type": "stream",
     "text": [
      "[nltk_data] Downloading package stopwords to\n",
      "[nltk_data]     /Users/estherfarkas/nltk_data...\n",
      "[nltk_data]   Package stopwords is already up-to-date!\n",
      "[nltk_data] Downloading package punkt to\n",
      "[nltk_data]     /Users/estherfarkas/nltk_data...\n",
      "[nltk_data]   Package punkt is already up-to-date!\n",
      "[nltk_data] Downloading package wordnet to\n",
      "[nltk_data]     /Users/estherfarkas/nltk_data...\n",
      "[nltk_data]   Package wordnet is already up-to-date!\n"
     ]
    }
   ],
   "source": [
    "# Step 1: Import Libraries\n",
    "#Basics\n",
    "import pandas as pd\n",
    "import numpy as np\n",
    "import pickle\n",
    "\n",
    "#Plots\n",
    "import matplotlib.pyplot as plt\n",
    "import seaborn as sns\n",
    "%matplotlib inline\n",
    "\n",
    "#NLP TOOLS\n",
    "import nltk\n",
    "from nltk import word_tokenize\n",
    "from nltk.corpus import stopwords\n",
    "from nltk.corpus import wordnet\n",
    "from nltk.stem import PorterStemmer\n",
    "from nltk.stem import WordNetLemmatizer\n",
    "\n",
    "nltk.download('stopwords')\n",
    "nltk.download('punkt')\n",
    "nltk.download('wordnet')\n",
    "stopwords=stopwords.words('english')\n",
    "\n",
    "\n",
    "#Strings and regular expressions\n",
    "import string,re\n",
    "\n",
    "#Text Vectorizer\n",
    "from sklearn.feature_extraction.text import CountVectorizer\n",
    "from sklearn.feature_extraction.text import TfidfVectorizer\n",
    "\n",
    "#Classifiers\n",
    "from sklearn.naive_bayes import MultinomialNB\n",
    "from sklearn.ensemble import RandomForestClassifier\n",
    "\n",
    "#Model Building\n",
    "from sklearn.model_selection import train_test_split\n",
    "from sklearn.metrics import plot_confusion_matrix\n",
    "from sklearn.metrics import classification_report\n",
    "\n",
    "#Evaluation\n",
    "from sklearn import metrics\n",
    "\n"
   ]
  },
  {
   "cell_type": "code",
   "execution_count": 3,
   "metadata": {},
   "outputs": [
    {
     "data": {
      "text/html": [
       "<div>\n",
       "<style scoped>\n",
       "    .dataframe tbody tr th:only-of-type {\n",
       "        vertical-align: middle;\n",
       "    }\n",
       "\n",
       "    .dataframe tbody tr th {\n",
       "        vertical-align: top;\n",
       "    }\n",
       "\n",
       "    .dataframe thead th {\n",
       "        text-align: right;\n",
       "    }\n",
       "</style>\n",
       "<table border=\"1\" class=\"dataframe\">\n",
       "  <thead>\n",
       "    <tr style=\"text-align: right;\">\n",
       "      <th></th>\n",
       "      <th>Release Year</th>\n",
       "      <th>Title</th>\n",
       "      <th>Origin/Ethnicity</th>\n",
       "      <th>Director</th>\n",
       "      <th>Cast</th>\n",
       "      <th>Genre</th>\n",
       "      <th>Wiki Page</th>\n",
       "      <th>Plot</th>\n",
       "    </tr>\n",
       "  </thead>\n",
       "  <tbody>\n",
       "    <tr>\n",
       "      <th>0</th>\n",
       "      <td>1901</td>\n",
       "      <td>Kansas Saloon Smashers</td>\n",
       "      <td>American</td>\n",
       "      <td>Unknown</td>\n",
       "      <td>NaN</td>\n",
       "      <td>unknown</td>\n",
       "      <td>https://en.wikipedia.org/wiki/Kansas_Saloon_Sm...</td>\n",
       "      <td>A bartender is working at a saloon, serving dr...</td>\n",
       "    </tr>\n",
       "    <tr>\n",
       "      <th>1</th>\n",
       "      <td>1901</td>\n",
       "      <td>Love by the Light of the Moon</td>\n",
       "      <td>American</td>\n",
       "      <td>Unknown</td>\n",
       "      <td>NaN</td>\n",
       "      <td>unknown</td>\n",
       "      <td>https://en.wikipedia.org/wiki/Love_by_the_Ligh...</td>\n",
       "      <td>The moon, painted with a smiling face hangs ov...</td>\n",
       "    </tr>\n",
       "    <tr>\n",
       "      <th>2</th>\n",
       "      <td>1901</td>\n",
       "      <td>The Martyred Presidents</td>\n",
       "      <td>American</td>\n",
       "      <td>Unknown</td>\n",
       "      <td>NaN</td>\n",
       "      <td>unknown</td>\n",
       "      <td>https://en.wikipedia.org/wiki/The_Martyred_Pre...</td>\n",
       "      <td>The film, just over a minute long, is composed...</td>\n",
       "    </tr>\n",
       "    <tr>\n",
       "      <th>3</th>\n",
       "      <td>1901</td>\n",
       "      <td>Terrible Teddy, the Grizzly King</td>\n",
       "      <td>American</td>\n",
       "      <td>Unknown</td>\n",
       "      <td>NaN</td>\n",
       "      <td>unknown</td>\n",
       "      <td>https://en.wikipedia.org/wiki/Terrible_Teddy,_...</td>\n",
       "      <td>Lasting just 61 seconds and consisting of two ...</td>\n",
       "    </tr>\n",
       "    <tr>\n",
       "      <th>4</th>\n",
       "      <td>1902</td>\n",
       "      <td>Jack and the Beanstalk</td>\n",
       "      <td>American</td>\n",
       "      <td>George S. Fleming, Edwin S. Porter</td>\n",
       "      <td>NaN</td>\n",
       "      <td>unknown</td>\n",
       "      <td>https://en.wikipedia.org/wiki/Jack_and_the_Bea...</td>\n",
       "      <td>The earliest known adaptation of the classic f...</td>\n",
       "    </tr>\n",
       "  </tbody>\n",
       "</table>\n",
       "</div>"
      ],
      "text/plain": [
       "   Release Year                             Title Origin/Ethnicity  \\\n",
       "0          1901            Kansas Saloon Smashers         American   \n",
       "1          1901     Love by the Light of the Moon         American   \n",
       "2          1901           The Martyred Presidents         American   \n",
       "3          1901  Terrible Teddy, the Grizzly King         American   \n",
       "4          1902            Jack and the Beanstalk         American   \n",
       "\n",
       "                             Director Cast    Genre  \\\n",
       "0                             Unknown  NaN  unknown   \n",
       "1                             Unknown  NaN  unknown   \n",
       "2                             Unknown  NaN  unknown   \n",
       "3                             Unknown  NaN  unknown   \n",
       "4  George S. Fleming, Edwin S. Porter  NaN  unknown   \n",
       "\n",
       "                                           Wiki Page  \\\n",
       "0  https://en.wikipedia.org/wiki/Kansas_Saloon_Sm...   \n",
       "1  https://en.wikipedia.org/wiki/Love_by_the_Ligh...   \n",
       "2  https://en.wikipedia.org/wiki/The_Martyred_Pre...   \n",
       "3  https://en.wikipedia.org/wiki/Terrible_Teddy,_...   \n",
       "4  https://en.wikipedia.org/wiki/Jack_and_the_Bea...   \n",
       "\n",
       "                                                Plot  \n",
       "0  A bartender is working at a saloon, serving dr...  \n",
       "1  The moon, painted with a smiling face hangs ov...  \n",
       "2  The film, just over a minute long, is composed...  \n",
       "3  Lasting just 61 seconds and consisting of two ...  \n",
       "4  The earliest known adaptation of the classic f...  "
      ]
     },
     "execution_count": 3,
     "metadata": {},
     "output_type": "execute_result"
    }
   ],
   "source": [
    "#Load the data frame with the csv file to be used\n",
    "df=pd.read_csv('wiki_movie_plots_deduped.csv')\n",
    "df.head(5)"
   ]
  },
  {
   "cell_type": "code",
   "execution_count": 4,
   "metadata": {},
   "outputs": [],
   "source": [
    "#ISBE- Inspect, Select, Build, Evaluate\n"
   ]
  },
  {
   "cell_type": "code",
   "execution_count": 5,
   "metadata": {},
   "outputs": [
    {
     "data": {
      "text/plain": [
       "Release Year           0\n",
       "Title                  0\n",
       "Origin/Ethnicity       0\n",
       "Director               0\n",
       "Cast                1422\n",
       "Genre                  0\n",
       "Wiki Page              0\n",
       "Plot                   0\n",
       "dtype: int64"
      ]
     },
     "execution_count": 5,
     "metadata": {},
     "output_type": "execute_result"
    }
   ],
   "source": [
    "#Inspect the dataframe- check for null values, duplicates and the breakdowns\n",
    "df.isnull().sum()\n"
   ]
  },
  {
   "cell_type": "code",
   "execution_count": 6,
   "metadata": {},
   "outputs": [
    {
     "data": {
      "text/plain": [
       "0"
      ]
     },
     "execution_count": 6,
     "metadata": {},
     "output_type": "execute_result"
    }
   ],
   "source": [
    "df.duplicated().sum()"
   ]
  },
  {
   "cell_type": "code",
   "execution_count": 7,
   "metadata": {},
   "outputs": [
    {
     "data": {
      "text/plain": [
       "unknown                                             6083\n",
       "drama                                               5964\n",
       "comedy                                              4379\n",
       "horror                                              1167\n",
       "action                                              1098\n",
       "                                                    ... \n",
       "dance film/ horror from the novel by bram stoker       1\n",
       "documentary, drama                                     1\n",
       "sport film                                             1\n",
       "musical, romance, thriller                             1\n",
       "mystery comedy                                         1\n",
       "Name: Genre, Length: 2265, dtype: int64"
      ]
     },
     "execution_count": 7,
     "metadata": {},
     "output_type": "execute_result"
    }
   ],
   "source": [
    "df['Genre'].value_counts()\n"
   ]
  },
  {
   "cell_type": "code",
   "execution_count": null,
   "metadata": {},
   "outputs": [],
   "source": []
  },
  {
   "cell_type": "code",
   "execution_count": 8,
   "metadata": {},
   "outputs": [],
   "source": [
    "#fix messy column names\n",
    "df.columns=df.columns.str.replace('/','_')"
   ]
  },
  {
   "cell_type": "code",
   "execution_count": 9,
   "metadata": {},
   "outputs": [
    {
     "data": {
      "text/plain": [
       "American        17377\n",
       "British          3670\n",
       "Bollywood        2931\n",
       "Tamil            2599\n",
       "Telugu           1311\n",
       "Japanese         1188\n",
       "Malayalam        1095\n",
       "Hong Kong         791\n",
       "Canadian          723\n",
       "Australian        576\n",
       "South_Korean      522\n",
       "Chinese           463\n",
       "Kannada           444\n",
       "Bengali           306\n",
       "Russian           232\n",
       "Marathi           141\n",
       "Filipino          128\n",
       "Bangladeshi        87\n",
       "Punjabi            84\n",
       "Turkish            70\n",
       "Malaysian          70\n",
       "Egyptian           67\n",
       "Assamese            9\n",
       "Maldivian           2\n",
       "Name: Origin_Ethnicity, dtype: int64"
      ]
     },
     "execution_count": 9,
     "metadata": {},
     "output_type": "execute_result"
    }
   ],
   "source": [
    "#remove the non-english titles\n",
    "df['Origin_Ethnicity'].value_counts()\n"
   ]
  },
  {
   "cell_type": "code",
   "execution_count": 10,
   "metadata": {},
   "outputs": [
    {
     "data": {
      "text/plain": [
       "American      17377\n",
       "British        3670\n",
       "Canadian        723\n",
       "Australian      576\n",
       "Name: Origin_Ethnicity, dtype: int64"
      ]
     },
     "execution_count": 10,
     "metadata": {},
     "output_type": "execute_result"
    }
   ],
   "source": [
    "#remove the non-english titles\n",
    "\n",
    "movie_origin=['American', 'British', 'Australian', 'Canadian']\n",
    "#df=df['Origin_Ethnicity'].isin(movie_origin)\n",
    "\n",
    "df.head()\n",
    "df=df[df.Origin_Ethnicity.isin(movie_origin)]\n",
    "df.head()\n",
    "df.Origin_Ethnicity.value_counts()"
   ]
  },
  {
   "cell_type": "code",
   "execution_count": 11,
   "metadata": {},
   "outputs": [
    {
     "name": "stdout",
     "output_type": "stream",
     "text": [
      "Original Genre: comedy, musical\n",
      "Sorted Genre:  comedy musical\n"
     ]
    }
   ],
   "source": [
    "#Maybe Changing the order of the genres will streamline the process\n",
    "def alphabetize_genre(a_string):\n",
    "    myGenre=a_string.replace('-', ',').replace('/', ',')\n",
    "    words=word_tokenize(myGenre)\n",
    "    words.sort()\n",
    "    \n",
    "    for word in words:\n",
    "        if (word==','):\n",
    "            words.remove(word)\n",
    "    myGenre=' '.join(words)\n",
    "    return myGenre\n",
    "\n",
    "df['Sorted_genre']=df['Genre'].apply(alphabetize_genre)\n",
    "print('Original Genre:', df['Genre'][2000])\n",
    "print('Sorted Genre: ', df['Sorted_genre'][2000])"
   ]
  },
  {
   "cell_type": "code",
   "execution_count": 12,
   "metadata": {},
   "outputs": [
    {
     "data": {
      "text/plain": [
       "drama                         4661\n",
       "comedy                        3849\n",
       "unknown                       1154\n",
       "horror                        1008\n",
       "western                        865\n",
       "                              ... \n",
       "dramedy musical                  1\n",
       "animated buddy comedy            1\n",
       "biographical drama musical       1\n",
       ", comedy drama family            1\n",
       "spoof spy                        1\n",
       "Name: Sorted_genre, Length: 792, dtype: int64"
      ]
     },
     "execution_count": 12,
     "metadata": {},
     "output_type": "execute_result"
    }
   ],
   "source": [
    "df.Sorted_genre.value_counts()"
   ]
  },
  {
   "cell_type": "code",
   "execution_count": 13,
   "metadata": {},
   "outputs": [
    {
     "name": "stdout",
     "output_type": "stream",
     "text": [
      "Original Genre:  comedy musical\n",
      "First Genre Only:  comedy\n"
     ]
    }
   ],
   "source": [
    "#Changing the value of genre so it only has 1 values\n",
    "def select_first(a_string):\n",
    "    words=word_tokenize(a_string)\n",
    "    \n",
    "    for word in words:\n",
    "        if (word==','):\n",
    "            words.remove(word)\n",
    "    return words[0]\n",
    "\n",
    "df['First_Genre']= df['Sorted_genre'].apply(select_first)\n",
    "print(\"Original Genre: \", df['Sorted_genre'][2000])\n",
    "print(\"First Genre Only: \", df['First_Genre'][2000])"
   ]
  },
  {
   "cell_type": "code",
   "execution_count": 14,
   "metadata": {},
   "outputs": [],
   "source": [
    "#df.Sorted_genre.value_counts()\n",
    "comedy_drama= ['comedy', 'drama']\n",
    "myCondition= df['First_Genre'].isin(comedy_drama)\n",
    "df= df[myCondition]\n",
    "\n"
   ]
  },
  {
   "cell_type": "code",
   "execution_count": 15,
   "metadata": {},
   "outputs": [
    {
     "data": {
      "text/plain": [
       "comedy    5561\n",
       "drama     5263\n",
       "Name: First_Genre, dtype: int64"
      ]
     },
     "execution_count": 15,
     "metadata": {},
     "output_type": "execute_result"
    }
   ],
   "source": [
    "#remove the things that have less than 2 items\n",
    "df.First_Genre.value_counts()"
   ]
  },
  {
   "cell_type": "code",
   "execution_count": 16,
   "metadata": {},
   "outputs": [
    {
     "name": "stdout",
     "output_type": "stream",
     "text": [
      "Make Lowercase: this is my test string\n",
      "Punctuation Removed: Hello This is exciting No It really isnt\n",
      "Remove Stopwords: Hey , well stopwords test really neat guess\n",
      "Stemmed: you walk and I walk along the walkway . walk is fun sinc we walk togeth\n"
     ]
    }
   ],
   "source": [
    "#Select and Engineer features\n",
    "#Make a pipeline to change the genres\n",
    "#make lowercase\n",
    "def make_lowercase(a_string):\n",
    "    return a_string.lower()\n",
    "\n",
    "lower_test_string='This IS MY Test String'\n",
    "lower_test_string=make_lowercase(lower_test_string)\n",
    "print('Make Lowercase: ' + lower_test_string)\n",
    "\n",
    "#remove punctuation\n",
    "def remove_punct(a_string):\n",
    "    a_string = re.sub(r'[^\\w\\s]','',a_string)\n",
    "    return a_string\n",
    "\n",
    "punct_test_string='Hello!! This is exciting?? No. It, really isnt.'\n",
    "punct_test_string=remove_punct(punct_test_string)\n",
    "print('Punctuation Removed: ' +punct_test_string)\n",
    "\n",
    "#remove stopwords\n",
    "def remove_stopwords(a_string):\n",
    "    words=word_tokenize(a_string)\n",
    "    \n",
    "    valid_words=[]\n",
    "    \n",
    "    for word in words:\n",
    "        if word not in stopwords:\n",
    "            valid_words.append(word)\n",
    "            \n",
    "    a_string=' '.join(valid_words)\n",
    "    return a_string\n",
    "\n",
    "stopwords_test_string='Hey so this is, well its my stopwords test its really neat i guess to me'\n",
    "stopwords_test_string=remove_stopwords(stopwords_test_string)\n",
    "print('Remove Stopwords: ' + stopwords_test_string)\n",
    "    \n",
    "#Break the words\n",
    "def stem_the_words(a_string):\n",
    "    \n",
    "    porter=PorterStemmer()\n",
    "    \n",
    "    words=word_tokenize(a_string)\n",
    "    \n",
    "    valid_words=[]\n",
    "    \n",
    "    for word in words:\n",
    "        stemmed_word=porter.stem(word)\n",
    "        valid_words.append(stemmed_word)\n",
    "        \n",
    "    a_string=' '.join(valid_words)\n",
    "    return a_string\n",
    "\n",
    "stemwords_test_string='You walked and I walk along the walkway. Walking is fun since we walk together'\n",
    "stemwords_test_string=stem_the_words(stemwords_test_string)\n",
    "print('Stemmed: '+ stemwords_test_string)\n",
    "\n",
    "#Why is it dropping \"e\"?"
   ]
  },
  {
   "cell_type": "code",
   "execution_count": 17,
   "metadata": {},
   "outputs": [
    {
     "name": "stdout",
     "output_type": "stream",
     "text": [
      "Clean Sentance: hello lovely day walk wouldnt agree mrs smith love garden garden gardening rewarding youll agree gardened well\n"
     ]
    }
   ],
   "source": [
    "#this is the pipeline so we dont have to type everything a million times\n",
    "def clean_string_pipeline(a_string):\n",
    "    a_string=make_lowercase(a_string)\n",
    "    a_string=remove_punct(a_string)\n",
    "    a_string=remove_stopwords(a_string)\n",
    "    \n",
    "    \n",
    "    return a_string\n",
    "\n",
    "#sanity check\n",
    "pipeline_test_string=\"Hello there! Its a lovely day for a walk, wouldn't you agree Mrs. Smith? I love to garden in my garden. Gardening is so rewarding and you'll agree once you have gardened as well.\"\n",
    "pipeline_test_string=clean_string_pipeline(pipeline_test_string)\n",
    "print('Clean Sentance: '+ pipeline_test_string)\n",
    "    "
   ]
  },
  {
   "cell_type": "code",
   "execution_count": 18,
   "metadata": {},
   "outputs": [
    {
     "name": "stdout",
     "output_type": "stream",
     "text": [
      "Original Text: No prints of the first American film adaptation of A Christmas Carol are known to exist,[1] but The Moving Picture World magazine provided a scene-by-scene description before the film's release.[2] Scrooge goes into his office and begins working. His nephew, along with three women who wish for Scrooge to donate enter. However, Scrooge dismisses them. On the night of Christmas Eve, his long-dead partner Jacob Marley comes as a ghost, warning him of a horrible fate if he does not change his ways. Scrooge meets three spirits that show Scrooge the real meaning of Christmas, along with his grave, the result of his parsimonious ways. The next morning, he wakes and realizes the error of his ways. Scrooge was then euphoric and generous for the rest of his life.\n",
      "Cleaned Test: prints first american film adaptation christmas carol known exist1 moving picture world magazine provided scenebyscene description films release2 scrooge goes office begins working nephew along three women wish scrooge donate enter however scrooge dismisses night christmas eve longdead partner jacob marley comes ghost warning horrible fate change ways scrooge meets three spirits show scrooge real meaning christmas along grave result parsimonious ways next morning wakes realizes error ways scrooge euphoric generous rest life\n"
     ]
    }
   ],
   "source": [
    "#apply pipeline to datafram\n",
    "df['Clean_Plot']=df['Plot'].apply(clean_string_pipeline)\n",
    "\n",
    "#sanity check\n",
    "print(\"Original Text: \"+ df['Plot'][20])\n",
    "print(\"Cleaned Test: \"+ df['Clean_Plot'][20])\n"
   ]
  },
  {
   "cell_type": "code",
   "execution_count": 19,
   "metadata": {},
   "outputs": [],
   "source": [
    "#Select and Engineer Features\n",
    "#select X and y\n",
    "\n",
    "X= df['Clean_Plot'].values\n",
    "y=df['First_Genre'].values\n"
   ]
  },
  {
   "cell_type": "code",
   "execution_count": 20,
   "metadata": {},
   "outputs": [
    {
     "name": "stdout",
     "output_type": "stream",
     "text": [
      "(10824, 83460) <class 'scipy.sparse.csr.csr_matrix'>\n"
     ]
    }
   ],
   "source": [
    "# Initialize our vectorizer\n",
    "vectorizer = TfidfVectorizer()\n",
    "\n",
    "# This makes your vocab matrix\n",
    "vectorizer.fit(X)\n",
    "\n",
    "# This transforms your documents into vectors.\n",
    "X = vectorizer.transform(X)\n",
    "\n",
    "print(X.shape, type(X))"
   ]
  },
  {
   "cell_type": "code",
   "execution_count": 21,
   "metadata": {},
   "outputs": [
    {
     "data": {
      "text/plain": [
       "<1x83460 sparse matrix of type '<class 'numpy.float64'>'\n",
       "\twith 19 stored elements in Compressed Sparse Row format>"
      ]
     },
     "execution_count": 21,
     "metadata": {},
     "output_type": "execute_result"
    }
   ],
   "source": [
    "#sanity check\n",
    "X[0]"
   ]
  },
  {
   "cell_type": "code",
   "execution_count": 22,
   "metadata": {},
   "outputs": [
    {
     "name": "stdout",
     "output_type": "stream",
     "text": [
      "Model Accuracy: 0.737182\n"
     ]
    }
   ],
   "source": [
    "#Build- now we do train test split on our data\n",
    "X_train,X_test,y_train,y_test=train_test_split(X, y, test_size=.20, random_state=20)\n",
    "\n",
    "#Initialize the model\n",
    "model=MultinomialNB(alpha=.5)\n",
    "\n",
    "#fit\n",
    "model.fit(X_train,y_train)\n",
    "\n",
    "#test\n",
    "y_pred=model.predict(X_test)\n",
    "\n",
    "y_pred_proba= model.predict_proba(X_test)\n",
    "\n",
    "#check accuracy\n",
    "accuracy=model.score(X_test, y_test)\n",
    "print('Model Accuracy: %f' % accuracy)\n",
    "\n"
   ]
  },
  {
   "cell_type": "code",
   "execution_count": 23,
   "metadata": {},
   "outputs": [
    {
     "name": "stdout",
     "output_type": "stream",
     "text": [
      "              precision    recall  f1-score   support\n",
      "\n",
      "      comedy       0.69      0.88      0.77      1103\n",
      "       drama       0.82      0.59      0.69      1062\n",
      "\n",
      "    accuracy                           0.74      2165\n",
      "   macro avg       0.76      0.73      0.73      2165\n",
      "weighted avg       0.76      0.74      0.73      2165\n",
      "\n"
     ]
    }
   ],
   "source": [
    "#Check other scores\n",
    "print(classification_report(y_test, y_pred, target_names=model.classes_))"
   ]
  },
  {
   "cell_type": "code",
   "execution_count": 24,
   "metadata": {},
   "outputs": [
    {
     "data": {
      "text/plain": [
       "<sklearn.metrics._plot.confusion_matrix.ConfusionMatrixDisplay at 0x11d79c400>"
      ]
     },
     "execution_count": 24,
     "metadata": {},
     "output_type": "execute_result"
    },
    {
     "data": {
      "image/png": "[encoded data removed]",
      "text/plain": [
       "<Figure size 1512x1512 with 2 Axes>"
      ]
     },
     "metadata": {
      "needs_background": "light"
     },
     "output_type": "display_data"
    }
   ],
   "source": [
    "#plot a confusion matrix\n",
    "fig, ax= plt.subplots(figsize=(21,21))\n",
    "disp = plot_confusion_matrix(model, X_test, y_test,\n",
    "                             display_labels=model.classes_,\n",
    "                             cmap=plt.cm.Blues, ax=ax)\n",
    "plt.xticks(rotation=90)\n",
    "disp"
   ]
  },
  {
   "cell_type": "code",
   "execution_count": null,
   "metadata": {},
   "outputs": [],
   "source": [
    "#pickle\n",
    "pickle.dump(vectorizer, open('/vectorizer.pkl', ''))"
   ]
  },
  {
   "cell_type": "code",
   "execution_count": 25,
   "metadata": {},
   "outputs": [
    {
     "name": "stdout",
     "output_type": "stream",
     "text": [
      "Model Accuracy: 0.730716\n",
      "              precision    recall  f1-score   support\n",
      "\n",
      "      comedy       0.71      0.80      0.75      1103\n",
      "       drama       0.76      0.66      0.71      1062\n",
      "\n",
      "    accuracy                           0.73      2165\n",
      "   macro avg       0.73      0.73      0.73      2165\n",
      "weighted avg       0.73      0.73      0.73      2165\n",
      "\n"
     ]
    }
   ],
   "source": [
    "#Random Forest Model\n",
    "rf_model= RandomForestClassifier()\n",
    "\n",
    "#Fit data\n",
    "rf_model.fit(X_train, y_train)\n",
    "\n",
    "#Predctions\n",
    "y_pred= rf_model.predict(X_test)\n",
    "y_pred_proba= rf_model.predict_proba(X_test)\n",
    "\n",
    "#accuracy\n",
    "accuracy=rf_model.score(X_test,y_test)\n",
    "print(\"Model Accuracy: %f\" % accuracy)\n",
    "\n",
    "#Print report\n",
    "print(classification_report(y_test, y_pred, target_names=rf_model.classes_))\n",
    "\n"
   ]
  },
  {
   "cell_type": "code",
   "execution_count": 26,
   "metadata": {},
   "outputs": [
    {
     "data": {
      "text/plain": [
       "<sklearn.metrics._plot.confusion_matrix.ConfusionMatrixDisplay at 0x11df1f2b0>"
      ]
     },
     "execution_count": 26,
     "metadata": {},
     "output_type": "execute_result"
    },
    {
     "data": {
      "image/png": "[encoded data removed]",
      "text/plain": [
       "<Figure size 1512x1512 with 2 Axes>"
      ]
     },
     "metadata": {
      "needs_background": "light"
     },
     "output_type": "display_data"
    }
   ],
   "source": [
    "#Display results\n",
    "# Plot the confusion matrix of our results\n",
    "fig, ax = plt.subplots(figsize=(21, 21))\n",
    "disp = plot_confusion_matrix(rf_model, X_test, y_test,\n",
    "                             display_labels=rf_model.classes_,\n",
    "                             cmap=plt.cm.Greens, ax=ax)\n",
    "plt.xticks(rotation=90)\n",
    "disp\n"
   ]
  },
  {
   "cell_type": "code",
   "execution_count": null,
   "metadata": {},
   "outputs": [],
   "source": []
  },
  {
   "cell_type": "code",
   "execution_count": null,
   "metadata": {},
   "outputs": [],
   "source": []
  }
 ],
 "metadata": {
  "kernelspec": {
   "display_name": "Python 3",
   "language": "python",
   "name": "python3"
  },
  "language_info": {
   "codemirror_mode": {
    "name": "ipython",
    "version": 3
   },
   "file_extension": ".py",
   "mimetype": "text/x-python",
   "name": "python",
   "nbconvert_exporter": "python",
   "pygments_lexer": "ipython3",
   "version": "3.8.3"
  }
 },
 "nbformat": 4,
 "nbformat_minor": 4
}
