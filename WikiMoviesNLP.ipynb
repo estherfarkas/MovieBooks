{
 "cells": [
  {
   "cell_type": "code",
   "execution_count": null,
   "metadata": {},
   "outputs": [],
   "source": [
    "#Trying with the wikipedia data set instead\n"
   ]
  },
  {
   "cell_type": "code",
   "execution_count": null,
   "metadata": {},
   "outputs": [],
   "source": [
    "# Step 1: Import Libraries\n",
    "#Basics\n",
    "import pandas as pd\n",
    "import numpy as np\n",
    "\n",
    "#Plots\n",
    "import matplotlib.pyplot as plt\n",
    "import seaborn as sns\n",
    "%matplotlib inline\n",
    "\n",
    "#NLP TOOLS\n",
    "import nltk\n",
    "from nltk import word_tokenize\n",
    "from nltk.corpus import stopwords\n",
    "from nltk.corpus import wordnet\n",
    "from nltk.stem import PorterStemmer\n",
    "from nltk.stem import WordNetLemmatizer\n",
    "\n",
    "nltk.download('stopwords')\n",
    "nltk.download('punkt')\n",
    "nltk.download('wordnet')\n",
    "stopwords=stopwords.words('english')\n",
    "\n",
    "\n",
    "#Strings and regular expressions\n",
    "import string,re\n",
    "\n",
    "#Text Vectorizer\n",
    "from sklearn.feature_extraction.text import CountVectorizer\n",
    "from sklearn.feature_extraction.text import TfidfVectorizer\n",
    "\n",
    "#Classifiers\n",
    "from sklearn.naive_bayes import MultinomialNB\n",
    "from sklearn.ensemble import RandomForestClassifier\n",
    "\n",
    "#Model Building\n",
    "from sklearn.model_selection import train_test_split\n",
    "from sklearn.metrics import plot_confusion_matrix\n",
    "from sklearn.metrics import classification_report\n",
    "\n",
    "#Evaluation\n",
    "from sklearn import metrics\n",
    "\n"
   ]
  },
  {
   "cell_type": "code",
   "execution_count": null,
   "metadata": {},
   "outputs": [],
   "source": [
    "#Load the data frame with the csv file to be used\n",
    "df=pd.read_csv('wiki_movie_plots_deduped.csv')\n",
    "df.head(5)"
   ]
  },
  {
   "cell_type": "code",
   "execution_count": null,
   "metadata": {},
   "outputs": [],
   "source": [
    "#ISBE- Inspect, Select, Build, Evaluate"
   ]
  },
  {
   "cell_type": "code",
   "execution_count": null,
   "metadata": {},
   "outputs": [],
   "source": [
    "#Inspect the dataframe- check for null values, duplicates and the breakdowns\n",
    "df.isnull().sum()\n"
   ]
  },
  {
   "cell_type": "code",
   "execution_count": null,
   "metadata": {},
   "outputs": [],
   "source": [
    "df.duplicated().sum()"
   ]
  },
  {
   "cell_type": "code",
   "execution_count": null,
   "metadata": {},
   "outputs": [],
   "source": [
    "df.Genre.value_counts()\n"
   ]
  },
  {
   "cell_type": "code",
   "execution_count": null,
   "metadata": {},
   "outputs": [],
   "source": [
    "#Maybe Changing the order of the genres will streamline the process\n",
    "def alphabetize_genre(a_string):\n",
    "    words=word_tokenize(a_string)\n",
    "    words.sort()\n",
    "    my_words=''.join(words)\n",
    "    return my_words\n",
    "\n",
    "df['Sorted_genre']=df['Genre'].apply(alphabetize_genre)\n",
    "print('Original Genre:', df['Genre'][20])\n",
    "print('Sorted Genre: ', df['Sorted_genre'][20])"
   ]
  },
  {
   "cell_type": "code",
   "execution_count": null,
   "metadata": {},
   "outputs": [],
   "source": [
    "#Changing the value of genre so it only has 1 values\n",
    "def select_first(a_string):\n",
    "    words=word_tokenize(a_string)\n",
    "    return words[0]\n",
    "\n",
    "df['First_Genre']= df['Genre'].apply(select_first)\n",
    "print(\"Original Genre: \", df['Genre'][10])\n",
    "print(\"First Genre Only: \", df['First_Genre'][10])"
   ]
  },
  {
   "cell_type": "code",
   "execution_count": null,
   "metadata": {},
   "outputs": [],
   "source": [
    "df.Sorted_genre.value_counts()\n",
    "#df.First_Genre.value_counts()"
   ]
  },
  {
   "cell_type": "code",
   "execution_count": null,
   "metadata": {},
   "outputs": [],
   "source": [
    "#Select and Engineer features\n",
    "#Make a pipeline to change the genres\n",
    "#make lowercase\n",
    "def make_lowercase(a_string):\n",
    "    return a_string.lower()\n",
    "\n",
    "lower_test_string='This IS MY Test String'\n",
    "lower_test_string=make_lowercase(lower_test_string)\n",
    "print('Make Lowercase: ' + lower_test_string)\n",
    "\n",
    "#remove punctuation\n",
    "def remove_punct(a_string):\n",
    "    a_string = re.sub(r'[^\\w\\s]','',a_string)\n",
    "    return a_string\n",
    "\n",
    "punct_test_string='Hello!! This is exciting?? No. It, really isnt.'\n",
    "punct_test_string=remove_punct(punct_test_string)\n",
    "print('Punctuation Removed: ' +punct_test_string)\n",
    "\n",
    "#remove stopwords\n",
    "def remove_stopwords(a_string):\n",
    "    words=word_tokenize(a_string)\n",
    "    \n",
    "    valid_words=[]\n",
    "    \n",
    "    for word in words:\n",
    "        if word not in stopwords:\n",
    "            valid_words.append(word)\n",
    "            \n",
    "    a_string=' '.join(valid_words)\n",
    "    return a_string\n",
    "\n",
    "stopwords_test_string='Hey so this is, well its my stopwords test its really neat i guess to me'\n",
    "stopwords_test_string=remove_stopwords(stopwords_test_string)\n",
    "print('Remove Stopwords: ' + stopwords_test_string)\n",
    "    \n",
    "#Break the words\n",
    "def stem_the_words(a_string):\n",
    "    \n",
    "    porter=PorterStemmer()\n",
    "    \n",
    "    words=word_tokenize(a_string)\n",
    "    \n",
    "    valid_words=[]\n",
    "    \n",
    "    for word in words:\n",
    "        stemmed_word=porter.stem(word)\n",
    "        valid_words.append(stemmed_word)\n",
    "        \n",
    "    a_string=' '.join(valid_words)\n",
    "    return a_string\n",
    "\n",
    "stemwords_test_string='You walked and I walk along the walkway. Walking is fun since we walk together'\n",
    "stemwords_test_string=stem_the_words(stemwords_test_string)\n",
    "print('Stemmed: '+ stemwords_test_string)\n",
    "\n",
    "#Why is it dropping \"e\"?"
   ]
  },
  {
   "cell_type": "code",
   "execution_count": null,
   "metadata": {},
   "outputs": [],
   "source": [
    "#this is the pipeline so we dont have to type everything a million times\n",
    "def clean_string_pipeline(a_string):\n",
    "    a_string=make_lowercase(a_string)\n",
    "    a_string=remove_punct(a_string)\n",
    "    a_string=remove_stopwords(a_string)\n",
    "    a_string=stem_the_words(a_string)\n",
    "    \n",
    "    return a_string\n",
    "\n",
    "#sanity check\n",
    "pipeline_test_string=\"Hello there! Its a lovely day for a walk, wouldn't you agree Mrs. Smith? I love to garden in my garden. Gardening is so rewarding and you'll agree once you have gardened as well.\"\n",
    "pipeline_test_string=clean_string_pipeline(pipeline_test_string)\n",
    "print('Clean Sentance: '+ pipeline_test_string)\n",
    "    "
   ]
  },
  {
   "cell_type": "code",
   "execution_count": null,
   "metadata": {},
   "outputs": [],
   "source": [
    "#apply pipeline to datafram\n",
    "df['Clean_Plot']=df['Plot'].apply(clean_string_pipeline)\n",
    "\n",
    "#sanity check\n",
    "print(\"Original Text: \"+ df['Plot'][20])\n",
    "print(\"Cleaned Test: \"+ df['Clean_Plot'][20])\n"
   ]
  },
  {
   "cell_type": "code",
   "execution_count": null,
   "metadata": {},
   "outputs": [],
   "source": [
    "#Select and Engineer Features\n",
    "#select X and y\n",
    "\n",
    "X= df['Clean_Plot'].values\n",
    "y=df['First_Genre'].values\n"
   ]
  },
  {
   "cell_type": "code",
   "execution_count": null,
   "metadata": {},
   "outputs": [],
   "source": [
    "# Initialize our vectorizer\n",
    "vectorizer = TfidfVectorizer()\n",
    "\n",
    "# This makes your vocab matrix\n",
    "vectorizer.fit(X)\n",
    "\n",
    "# This transforms your documents into vectors.\n",
    "X = vectorizer.transform(X)\n",
    "\n",
    "print(X.shape, type(X))"
   ]
  },
  {
   "cell_type": "code",
   "execution_count": null,
   "metadata": {},
   "outputs": [],
   "source": [
    "#sanity check\n",
    "X[0]"
   ]
  },
  {
   "cell_type": "code",
   "execution_count": null,
   "metadata": {},
   "outputs": [],
   "source": [
    "#Build- now we do train test split on our data\n",
    "X_train,X_test,y_train,y_test=train_test_split(X, y, test_size=.20, random_state=20)\n",
    "\n",
    "#Initialize the model\n",
    "model=MultinomialNB(alpha=.5)\n",
    "\n",
    "#fit\n",
    "model.fit(X_train,y_train)\n",
    "\n",
    "#test\n",
    "y_pred=model.predict(X_test)\n",
    "\n",
    "y_pred_proba= model.predict_proba(X_test)\n",
    "\n",
    "#check accuracy\n",
    "accuracy=model.score(X_test, y_test)\n",
    "print('Model Accuracy: %f' % accuracy)\n",
    "\n"
   ]
  },
  {
   "cell_type": "code",
   "execution_count": null,
   "metadata": {},
   "outputs": [],
   "source": [
    "#Check other scores\n",
    "print(classification_report(y_test, y_pred, target_names=model.classes_))"
   ]
  },
  {
   "cell_type": "code",
   "execution_count": null,
   "metadata": {},
   "outputs": [],
   "source": [
    "#plot a confusion matrix\n",
    "fig, ax= plt.subplots(figsize=(21,21))\n",
    "disp = plot_confusion_matrix(model, X_test, y_test,\n",
    "                             display_labels=model.classes_,\n",
    "                             cmap=plt.cm.Blues, ax=ax)\n",
    "plt.xticks(rotation=90)\n",
    "disp"
   ]
  },
  {
   "cell_type": "code",
   "execution_count": null,
   "metadata": {},
   "outputs": [],
   "source": [
    "#Random Forest Model\n",
    "rf_model= RandomForestClassifier()\n",
    "\n",
    "#Fit data\n",
    "rf_model.fit(X_train, y_train)\n",
    "\n",
    "#Predctions\n",
    "y_pred= rf_model.predict(X_test)\n",
    "y_pred_proba= rf_model.predict_proba(X_test)\n",
    "\n",
    "#accuracy\n",
    "accuracy=rf_model.score(X_test,y_test)\n",
    "print(\"Model Accuracy: %f\" % accuracy)\n",
    "\n",
    "#Print report\n",
    "print(classification_report(y_test, y_pred, target_names=rf_model.classes_))\n",
    "\n"
   ]
  },
  {
   "cell_type": "code",
   "execution_count": null,
   "metadata": {},
   "outputs": [],
   "source": [
    "#Display results\n",
    "# Plot the confusion matrix of our results\n",
    "fig, ax = plt.subplots(figsize=(21, 21))\n",
    "disp = plot_confusion_matrix(rf_model, X_test, y_test,\n",
    "                             display_labels=rf_model.classes_,\n",
    "                             cmap=plt.cm.Greens, ax=ax)\n",
    "plt.xticks(rotation=90)\n",
    "disp\n"
   ]
  },
  {
   "cell_type": "code",
   "execution_count": null,
   "metadata": {},
   "outputs": [],
   "source": []
  },
  {
   "cell_type": "code",
   "execution_count": null,
   "metadata": {},
   "outputs": [],
   "source": []
  }
 ],
 "metadata": {
  "kernelspec": {
   "display_name": "Python 3",
   "language": "python",
   "name": "python3"
  },
  "language_info": {
   "codemirror_mode": {
    "name": "ipython",
    "version": 3
   },
   "file_extension": ".py",
   "mimetype": "text/x-python",
   "name": "python",
   "nbconvert_exporter": "python",
   "pygments_lexer": "ipython3",
   "version": "3.8.3"
  }
 },
 "nbformat": 4,
 "nbformat_minor": 4
}
